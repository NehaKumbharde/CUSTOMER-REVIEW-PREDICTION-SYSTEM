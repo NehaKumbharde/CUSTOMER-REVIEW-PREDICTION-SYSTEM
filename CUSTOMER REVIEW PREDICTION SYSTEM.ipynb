{
 "cells": [
  {
   "cell_type": "markdown",
   "id": "eb2e2160",
   "metadata": {},
   "source": [
    "# PROJECT 2\n",
    " "
   ]
  },
  {
   "cell_type": "markdown",
   "id": "ffe2d88c",
   "metadata": {},
   "source": [
    "# CUSTOMER REVIEW PREDICTION SYSTEM"
   ]
  },
  {
   "cell_type": "markdown",
   "id": "b2cd45c9",
   "metadata": {},
   "source": [
    "# PROBLEM STATEMENT"
   ]
  },
  {
   "cell_type": "markdown",
   "id": "baa85fdf",
   "metadata": {},
   "source": [
    "Normally, a lot of businesses are remained as failures due to lack of profit, lack of proper improvement measures.\n",
    "Mostly, restaurant owners face a lot of difficulties to improve their productivity. \n",
    "This project really helps those who want to increase their productivity, which in turn increases their business profits.\n",
    "This is the main objective of this project.\n",
    "\n",
    "What the project does is that the restaurant owner gets to know about drawbacks of his restaurant \n",
    "such as most disliked food items of his restaurant by customer’s text review which is processed with ML\n",
    "classification algorithm(Naive Bayes)"
   ]
  },
  {
   "cell_type": "markdown",
   "id": "6d21f103",
   "metadata": {},
   "source": [
    "The purpose of this analysis is to build a prediction model to predict whether a review on the restaurant is positive\n",
    "or negative. To do so, we will work on Restaurant Review dataset, we will load it into predicitve algorithms \n",
    "Multinomial Naive Bayes, Bernoulli Naive Bayes and Logistic Regression. In the end,\n",
    "we hope to find a \"best\" model for predicting the review's sentiment."
   ]
  },
  {
   "cell_type": "raw",
   "id": "00104409",
   "metadata": {},
   "source": [
    "Dataset: Restaurant_Reviews.tsv is a dataset from Kaggle datasets which consists of above 1000 reviews on a restaurant.\n",
    "\n",
    "To build a model to predict if review is positive or negative, following steps are performed.\n",
    "\n",
    "Importing Dataset\n",
    "Preprocessing Dataset\n",
    "Vectorization\n",
    "Training and Classification\n",
    "Analysis Conclusion"
   ]
  },
  {
   "cell_type": "raw",
   "id": "4d7f51de",
   "metadata": {},
   "source": [
    " Tools & Technologies Used:\n",
    "NLTK\n",
    "Machine Learning\n",
    "Python\n",
    "Tkinter\n",
    "Mysql\n",
    "Pandas"
   ]
  },
  {
   "cell_type": "markdown",
   "id": "892190fb",
   "metadata": {},
   "source": [
    "# Importing liabraries"
   ]
  },
  {
   "cell_type": "code",
   "execution_count": 1,
   "id": "5ab043c1",
   "metadata": {},
   "outputs": [],
   "source": [
    "import numpy as np\n",
    "import pandas as pd\n",
    "import matplotlib.pyplot as plt"
   ]
  },
  {
   "cell_type": "markdown",
   "id": "c52b3010",
   "metadata": {},
   "source": [
    "# Loading dataset"
   ]
  },
  {
   "cell_type": "code",
   "execution_count": 2,
   "id": "3618aefe",
   "metadata": {},
   "outputs": [],
   "source": [
    "df=pd.read_csv('r_data.tsv',delimiter='\\t')"
   ]
  },
  {
   "cell_type": "code",
   "execution_count": 3,
   "id": "4f544255",
   "metadata": {},
   "outputs": [
    {
     "data": {
      "text/html": [
       "<div>\n",
       "<style scoped>\n",
       "    .dataframe tbody tr th:only-of-type {\n",
       "        vertical-align: middle;\n",
       "    }\n",
       "\n",
       "    .dataframe tbody tr th {\n",
       "        vertical-align: top;\n",
       "    }\n",
       "\n",
       "    .dataframe thead th {\n",
       "        text-align: right;\n",
       "    }\n",
       "</style>\n",
       "<table border=\"1\" class=\"dataframe\">\n",
       "  <thead>\n",
       "    <tr style=\"text-align: right;\">\n",
       "      <th></th>\n",
       "      <th>Review</th>\n",
       "      <th>Liked</th>\n",
       "    </tr>\n",
       "  </thead>\n",
       "  <tbody>\n",
       "    <tr>\n",
       "      <th>0</th>\n",
       "      <td>Wow... Loved this place.</td>\n",
       "      <td>1</td>\n",
       "    </tr>\n",
       "    <tr>\n",
       "      <th>1</th>\n",
       "      <td>Crust is not good.</td>\n",
       "      <td>0</td>\n",
       "    </tr>\n",
       "    <tr>\n",
       "      <th>2</th>\n",
       "      <td>Not tasty and the texture was just nasty.</td>\n",
       "      <td>0</td>\n",
       "    </tr>\n",
       "    <tr>\n",
       "      <th>3</th>\n",
       "      <td>Stopped by during the late May bank holiday of...</td>\n",
       "      <td>1</td>\n",
       "    </tr>\n",
       "    <tr>\n",
       "      <th>4</th>\n",
       "      <td>The selection on the menu was great and so wer...</td>\n",
       "      <td>1</td>\n",
       "    </tr>\n",
       "    <tr>\n",
       "      <th>...</th>\n",
       "      <td>...</td>\n",
       "      <td>...</td>\n",
       "    </tr>\n",
       "    <tr>\n",
       "      <th>1381</th>\n",
       "      <td>clean</td>\n",
       "      <td>1</td>\n",
       "    </tr>\n",
       "    <tr>\n",
       "      <th>1382</th>\n",
       "      <td>less</td>\n",
       "      <td>0</td>\n",
       "    </tr>\n",
       "    <tr>\n",
       "      <th>1383</th>\n",
       "      <td>clean</td>\n",
       "      <td>1</td>\n",
       "    </tr>\n",
       "    <tr>\n",
       "      <th>1384</th>\n",
       "      <td>less</td>\n",
       "      <td>0</td>\n",
       "    </tr>\n",
       "    <tr>\n",
       "      <th>1385</th>\n",
       "      <td>clean</td>\n",
       "      <td>1</td>\n",
       "    </tr>\n",
       "  </tbody>\n",
       "</table>\n",
       "<p>1386 rows × 2 columns</p>\n",
       "</div>"
      ],
      "text/plain": [
       "                                                 Review  Liked\n",
       "0                              Wow... Loved this place.      1\n",
       "1                                    Crust is not good.      0\n",
       "2             Not tasty and the texture was just nasty.      0\n",
       "3     Stopped by during the late May bank holiday of...      1\n",
       "4     The selection on the menu was great and so wer...      1\n",
       "...                                                 ...    ...\n",
       "1381                                              clean      1\n",
       "1382                                               less      0\n",
       "1383                                              clean      1\n",
       "1384                                               less      0\n",
       "1385                                              clean      1\n",
       "\n",
       "[1386 rows x 2 columns]"
      ]
     },
     "execution_count": 3,
     "metadata": {},
     "output_type": "execute_result"
    }
   ],
   "source": [
    "df"
   ]
  },
  {
   "cell_type": "code",
   "execution_count": 4,
   "id": "c7f7a450",
   "metadata": {},
   "outputs": [
    {
     "data": {
      "text/plain": [
       "(1386, 2)"
      ]
     },
     "execution_count": 4,
     "metadata": {},
     "output_type": "execute_result"
    }
   ],
   "source": [
    "df.shape"
   ]
  },
  {
   "cell_type": "code",
   "execution_count": 5,
   "id": "7ce47ca3",
   "metadata": {},
   "outputs": [],
   "source": [
    "# check null values"
   ]
  },
  {
   "cell_type": "code",
   "execution_count": 6,
   "id": "ac136cd2",
   "metadata": {},
   "outputs": [
    {
     "data": {
      "text/plain": [
       "Review    0\n",
       "Liked     0\n",
       "dtype: int64"
      ]
     },
     "execution_count": 6,
     "metadata": {},
     "output_type": "execute_result"
    }
   ],
   "source": [
    "df.isnull().sum()"
   ]
  },
  {
   "cell_type": "code",
   "execution_count": 7,
   "id": "9e5508f4",
   "metadata": {},
   "outputs": [],
   "source": [
    "# data balance"
   ]
  },
  {
   "cell_type": "code",
   "execution_count": 8,
   "id": "f634edc2",
   "metadata": {},
   "outputs": [
    {
     "data": {
      "text/plain": [
       "1    792\n",
       "0    594\n",
       "Name: Liked, dtype: int64"
      ]
     },
     "execution_count": 8,
     "metadata": {},
     "output_type": "execute_result"
    }
   ],
   "source": [
    "df['Liked'].value_counts()"
   ]
  },
  {
   "cell_type": "code",
   "execution_count": 9,
   "id": "5938bd96",
   "metadata": {},
   "outputs": [
    {
     "data": {
      "text/plain": [
       "<AxesSubplot:>"
      ]
     },
     "execution_count": 9,
     "metadata": {},
     "output_type": "execute_result"
    },
    {
     "data": {
      "image/png": "[encoded data removed]",
      "text/plain": [
       "<Figure size 432x288 with 1 Axes>"
      ]
     },
     "metadata": {
      "needs_background": "light"
     },
     "output_type": "display_data"
    }
   ],
   "source": [
    "df['Liked'].value_counts().plot(kind='bar')"
   ]
  },
  {
   "cell_type": "code",
   "execution_count": 10,
   "id": "2143439a",
   "metadata": {},
   "outputs": [
    {
     "data": {
      "text/plain": [
       "<AxesSubplot:ylabel='Liked'>"
      ]
     },
     "execution_count": 10,
     "metadata": {},
     "output_type": "execute_result"
    },
    {
     "data": {
      "image/png": "[encoded data removed]",
      "text/plain": [
       "<Figure size 432x288 with 1 Axes>"
      ]
     },
     "metadata": {},
     "output_type": "display_data"
    }
   ],
   "source": [
    "df['Liked'].value_counts().plot(kind='pie')"
   ]
  },
  {
   "cell_type": "markdown",
   "id": "cc316437",
   "metadata": {},
   "source": [
    "Preprocessing Dataset\n",
    "Each review undergoes through a preprocessing step, where all the vague information is removed.\n",
    "\n",
    "Removing the Stopwords, numeric and speacial charecters.\n",
    "Normalizing each review using the approach of stemming."
   ]
  },
  {
   "cell_type": "markdown",
   "id": "e788764e",
   "metadata": {},
   "source": [
    "# Natural language processing"
   ]
  },
  {
   "cell_type": "code",
   "execution_count": 11,
   "id": "5fb9f244",
   "metadata": {},
   "outputs": [],
   "source": [
    "import nltk\n",
    "import re"
   ]
  },
  {
   "cell_type": "code",
   "execution_count": 12,
   "id": "76308f71",
   "metadata": {},
   "outputs": [],
   "source": [
    "from nltk.corpus import stopwords\n",
    "from nltk.stem.porter import PorterStemmer"
   ]
  },
  {
   "cell_type": "code",
   "execution_count": 13,
   "id": "b086cfa6",
   "metadata": {},
   "outputs": [
    {
     "name": "stderr",
     "output_type": "stream",
     "text": [
      "[nltk_data] Downloading package stopwords to\n",
      "[nltk_data]     C:\\Users\\HP\\AppData\\Roaming\\nltk_data...\n",
      "[nltk_data]   Package stopwords is already up-to-date!\n"
     ]
    },
    {
     "data": {
      "text/plain": [
       "True"
      ]
     },
     "execution_count": 13,
     "metadata": {},
     "output_type": "execute_result"
    }
   ],
   "source": [
    "nltk.download('stopwords')                # a,an,the,on,at,is"
   ]
  },
  {
   "cell_type": "markdown",
   "id": "2a08d4f0",
   "metadata": {},
   "source": [
    "# Clean review"
   ]
  },
  {
   "cell_type": "code",
   "execution_count": 14,
   "id": "b4adce8e",
   "metadata": {},
   "outputs": [
    {
     "data": {
      "text/plain": [
       "'Wow... Loved this place.'"
      ]
     },
     "execution_count": 14,
     "metadata": {},
     "output_type": "execute_result"
    }
   ],
   "source": [
    "df['Review'][0]"
   ]
  },
  {
   "cell_type": "code",
   "execution_count": 15,
   "id": "794fb341",
   "metadata": {},
   "outputs": [],
   "source": [
    "corpus=[]\n",
    "for i in range (len(df)):\n",
    "    # Cleaning special character or numerical values from the reviews\n",
    "    review=re.sub(pattern='[^a-zA-Z]',repl=' ',string=df['Review'][i])\n",
    "    \n",
    "    # Converting the entire review into lower case\n",
    "    review=review.lower()\n",
    "    \n",
    "    # Tokenizing the review by words\n",
    "    list1=review.split()\n",
    "    \n",
    "    # Remove stopwords\n",
    "    list2=[i for i in list1 if i not in set(stopwords.words('english'))]\n",
    "    \n",
    "    # Stemming\n",
    "    ps=PorterStemmer()\n",
    "    list3=[ps.stem(i) for i in list2]\n",
    "    \n",
    "    # convert list into string\n",
    "    newstring=' '.join(list2)\n",
    "    corpus.append(newstring)\n",
    "    \n",
    "    "
   ]
  },
  {
   "cell_type": "code",
   "execution_count": 16,
   "id": "4dfaa734",
   "metadata": {},
   "outputs": [
    {
     "data": {
      "text/plain": [
       "['wow loved place',\n",
       " 'crust good',\n",
       " 'tasty texture nasty',\n",
       " 'stopped late may bank holiday rick steve recommendation loved',\n",
       " 'selection menu great prices',\n",
       " 'getting angry want damn pho',\n",
       " 'honeslty taste fresh',\n",
       " 'potatoes like rubber could tell made ahead time kept warmer',\n",
       " 'fries great',\n",
       " 'great touch',\n",
       " 'service prompt',\n",
       " 'would go back',\n",
       " 'cashier care ever say still ended wayyy overpriced',\n",
       " 'tried cape cod ravoli chicken cranberry mmmm',\n",
       " 'disgusted pretty sure human hair',\n",
       " 'shocked signs indicate cash',\n",
       " 'highly recommended',\n",
       " 'waitress little slow service',\n",
       " 'place worth time let alone vegas',\n",
       " 'like',\n",
       " 'burrittos blah',\n",
       " 'food amazing',\n",
       " 'service also cute',\n",
       " 'could care less interior beautiful',\n",
       " 'performed',\n",
       " 'right red velvet cake ohhh stuff good',\n",
       " 'never brought salad asked',\n",
       " 'hole wall great mexican street tacos friendly staff',\n",
       " 'took hour get food tables restaurant food luke warm sever running around like totally overwhelmed',\n",
       " 'worst salmon sashimi',\n",
       " 'also combos like burger fries beer decent deal',\n",
       " 'like final blow',\n",
       " 'found place accident could happier',\n",
       " 'seems like good quick place grab bite familiar pub food favor look elsewhere',\n",
       " 'overall like place lot',\n",
       " 'redeeming quality restaurant inexpensive',\n",
       " 'ample portions good prices',\n",
       " 'poor service waiter made feel like stupid every time came table',\n",
       " 'first visit hiro delight',\n",
       " 'service sucks',\n",
       " 'shrimp tender moist',\n",
       " 'deal good enough would drag establishment',\n",
       " 'hard judge whether sides good grossed melted styrofoam want eat fear getting sick',\n",
       " 'positive note server attentive provided great service',\n",
       " 'frozen pucks disgust worst people behind register',\n",
       " 'thing like prime rib dessert section',\n",
       " 'bad food damn generic',\n",
       " 'burger good beef cooked right',\n",
       " 'want sandwich go firehouse',\n",
       " 'side greek salad greek dressing tasty pita hummus refreshing',\n",
       " 'ordered duck rare pink tender inside nice char outside',\n",
       " 'came running us realized husband left sunglasses table',\n",
       " 'chow mein good',\n",
       " 'horrible attitudes towards customers talk one customers enjoy food',\n",
       " 'portion huge',\n",
       " 'loved friendly servers great food wonderful imaginative menu',\n",
       " 'heart attack grill downtown vegas absolutely flat lined excuse restaurant',\n",
       " 'much seafood like strings pasta bottom',\n",
       " 'salad right amount sauce power scallop perfectly cooked',\n",
       " 'ripped banana ripped petrified tasteless',\n",
       " 'least think refill water struggle wave minutes',\n",
       " 'place receives stars appetizers',\n",
       " 'cocktails handmade delicious',\n",
       " 'definitely go back',\n",
       " 'glad found place',\n",
       " 'great food service huge portions give military discount',\n",
       " 'always great time dos gringos',\n",
       " 'update went back second time still amazing',\n",
       " 'got food apparently never heard salt batter fish chewy',\n",
       " 'great way finish great',\n",
       " 'deal included tastings drinks jeff went beyond expected',\n",
       " 'really really good rice time',\n",
       " 'service meh',\n",
       " 'took min get milkshake nothing chocolate milk',\n",
       " 'guess known place would suck inside excalibur use common sense',\n",
       " 'scallop dish quite appalling value well',\n",
       " 'times bad customer service',\n",
       " 'sweet potato fries good seasoned well',\n",
       " 'today second time lunch buffet pretty good',\n",
       " 'much good food vegas feel cheated wasting eating opportunity going rice company',\n",
       " 'coming like experiencing underwhelming relationship parties wait person ask break',\n",
       " 'walked place smelled like old grease trap others eating',\n",
       " 'turkey roast beef bland',\n",
       " 'place',\n",
       " 'pan cakes everyone raving taste like sugary disaster tailored palate six year old',\n",
       " 'love pho spring rolls oh yummy try',\n",
       " 'poor batter meat ratio made chicken tenders unsatisfying',\n",
       " 'say food amazing',\n",
       " 'omelets die',\n",
       " 'everything fresh delicious',\n",
       " 'summary largely disappointing dining experience',\n",
       " 'like really sexy party mouth outrageously flirting hottest person party',\n",
       " 'never hard rock casino never ever step forward',\n",
       " 'best breakfast buffet',\n",
       " 'say bye bye tip lady',\n",
       " 'never go',\n",
       " 'back',\n",
       " 'food arrived quickly',\n",
       " 'good',\n",
       " 'side cafe serves really good food',\n",
       " 'server fantastic found wife loves roasted garlic bone marrow added extra meal another marrow go',\n",
       " 'good thing waiter helpful kept bloddy mary coming',\n",
       " 'best buffet town price cannot beat',\n",
       " 'loved mussels cooked wine reduction duck tender potato dishes delicious',\n",
       " 'one better buffets',\n",
       " 'went tigerlilly fantastic afternoon',\n",
       " 'food delicious bartender attentive personable got great deal',\n",
       " 'ambience wonderful music playing',\n",
       " 'go back next trip',\n",
       " 'sooooo good',\n",
       " 'real sushi lovers let honest yama good',\n",
       " 'least min passed us ordering food arriving busy',\n",
       " 'really fantastic thai restaurant definitely worth visit',\n",
       " 'nice spicy tender',\n",
       " 'good prices',\n",
       " 'check',\n",
       " 'pretty gross',\n",
       " 'better atmosphere',\n",
       " 'kind hard mess steak',\n",
       " 'although much liked look sound place actual experience bit disappointing',\n",
       " 'know place managed served blandest food ever eaten preparing indian cuisine',\n",
       " 'worst service boot least worries',\n",
       " 'service fine waitress friendly',\n",
       " 'guys steaks steak loving son steak best worst places said best steak ever eaten',\n",
       " 'thought venture away get good sushi place really hit spot night',\n",
       " 'host staff lack better word bitches',\n",
       " 'bland liking place number reasons want waste time bad reviewing leave',\n",
       " 'phenomenal food service ambiance',\n",
       " 'return',\n",
       " 'definitely worth venturing strip pork belly return next time vegas',\n",
       " 'place way overpriced mediocre food',\n",
       " 'penne vodka excellent',\n",
       " 'good selection food including massive meatloaf sandwich crispy chicken wrap delish tuna melt tasty burgers',\n",
       " 'management rude',\n",
       " 'delicious nyc bagels good selections cream cheese real lox capers even',\n",
       " 'great subway fact good come every subway meet expectations',\n",
       " 'seriously solid breakfast',\n",
       " 'one best bars food vegas',\n",
       " 'extremely rude really many restaurants would love dine weekend vegas',\n",
       " 'drink never empty made really great menu suggestions',\n",
       " '',\n",
       " 'waiter helpful friendly rarely checked us',\n",
       " 'husband ate lunch disappointed food service',\n",
       " 'red curry much bamboo shoots tasty',\n",
       " 'nice blanket moz top feel like done cover subpar food',\n",
       " 'bathrooms clean place well decorated',\n",
       " 'menu always changing food quality going service extremely slow',\n",
       " 'service little slow considering served people servers food coming slow pace',\n",
       " 'give thumbs',\n",
       " 'watched waiter pay lot attention tables ignore us',\n",
       " 'fianc came middle day greeted seated right away',\n",
       " 'great restaurant mandalay bay',\n",
       " 'waited forty five minutes vain',\n",
       " 'crostini came salad stale',\n",
       " 'highlights great quality nigiri',\n",
       " 'staff friendly joint always clean',\n",
       " 'different cut piece day still wonderful tender well well flavored',\n",
       " 'ordered voodoo pasta first time really excellent pasta since going gluten free several years ago',\n",
       " 'place good',\n",
       " 'unfortunately must hit bakery leftover day everything ordered stale',\n",
       " 'came back today since relocated still impressed',\n",
       " 'seated immediately',\n",
       " 'menu diverse reasonably priced',\n",
       " 'avoid cost',\n",
       " 'restaurant always full never wait',\n",
       " 'delicious',\n",
       " 'place hands one best places eat phoenix metro area',\n",
       " 'go looking good food',\n",
       " 'never treated bad',\n",
       " 'bacon hella salty',\n",
       " 'also ordered spinach avocado salad ingredients sad dressing literally zero taste',\n",
       " 'really vegas fine dining used right menus handed ladies prices listed',\n",
       " 'waitresses friendly',\n",
       " 'lordy khao soi dish missed curry lovers',\n",
       " 'everything menu terrific also thrilled made amazing accommodations vegetarian daughter',\n",
       " 'perhaps caught night judging reviews inspired go back',\n",
       " 'service leaves lot desired',\n",
       " 'atmosphere modern hip maintaining touch coziness',\n",
       " 'weekly haunt definitely place come back every',\n",
       " 'literally sat minutes one asking take order',\n",
       " 'burger absolutely flavor meat totally bland burger overcooked charcoal flavor',\n",
       " 'also decided send back waitress looked like verge heart attack',\n",
       " 'dressed treated rudely',\n",
       " 'probably dirt',\n",
       " 'love place hits spot want something healthy lacking quantity flavor',\n",
       " 'ordered lemon raspberry ice cocktail also incredible',\n",
       " 'food sucked expected sucked could imagined',\n",
       " 'interesting decor',\n",
       " 'really like crepe station',\n",
       " 'also served hot bread butter home made potato chips bacon bits top original good',\n",
       " 'watch preparing delicious food',\n",
       " 'egg rolls fantastic',\n",
       " 'order arrived one gyros missing',\n",
       " 'salad wings ice cream dessert left feeling quite satisfied',\n",
       " 'really sure joey voted best hot dog valley readers phoenix magazine',\n",
       " 'best place go tasty bowl pho',\n",
       " 'live music fridays totally blows',\n",
       " 'never insulted felt disrespected',\n",
       " 'friendly staff',\n",
       " 'worth drive',\n",
       " 'heard good things place exceeding every hope could dreamed',\n",
       " 'food great serivce',\n",
       " 'warm beer help',\n",
       " 'great brunch spot',\n",
       " 'service friendly inviting',\n",
       " 'good lunch spot',\n",
       " 'lived since first last time stepped foot place',\n",
       " 'worst experience ever',\n",
       " 'must night place',\n",
       " 'sides delish mixed mushrooms yukon gold puree white corn beateous',\n",
       " 'bug never showed would given sure side wall bug climbing kitchen',\n",
       " 'minutes waiting salad realized coming time soon',\n",
       " 'friend loved salmon tartar',\n",
       " 'go back',\n",
       " 'extremely tasty',\n",
       " 'waitress good though',\n",
       " 'soggy good',\n",
       " 'jamaican mojitos delicious',\n",
       " 'small worth price',\n",
       " 'food rich order accordingly',\n",
       " 'shower area outside rinse take full shower unless mind nude everyone see',\n",
       " 'service bit lacking',\n",
       " 'lobster bisque bussell sprouts risotto filet needed salt pepper course none tables',\n",
       " 'hopefully bodes going business someone cook come',\n",
       " 'either cold enough flavor bad',\n",
       " 'loved bacon wrapped dates',\n",
       " 'unbelievable bargain',\n",
       " 'folks otto always make us feel welcome special',\n",
       " 'mains also uninspired',\n",
       " 'place first pho amazing',\n",
       " 'wonderful experience made place must stop whenever town',\n",
       " 'food bad enough enjoy dealing world worst annoying drunk people',\n",
       " 'fun chef',\n",
       " 'ordered double cheeseburger got single patty falling apart picture uploaded yeah still sucks',\n",
       " 'great place couple drinks watch sporting events walls covered tv',\n",
       " 'possible give zero stars',\n",
       " 'descriptions said yum yum sauce another said eel sauce yet another said spicy mayo well none rolls sauces',\n",
       " 'say would hardest decision honestly dishes taste supposed taste amazing',\n",
       " 'rolled eyes may stayed sure go back try',\n",
       " 'everyone attentive providing excellent customer service',\n",
       " 'horrible waste time money',\n",
       " 'dish quite flavourful',\n",
       " 'time side restaurant almost empty excuse',\n",
       " 'busy either also building freezing cold',\n",
       " 'like reviewer said pay eat place',\n",
       " 'drinks took close minutes come one point',\n",
       " 'seriously flavorful delights folks',\n",
       " 'much better ayce sushi place went vegas',\n",
       " 'lighting dark enough set mood',\n",
       " 'based sub par service received effort show gratitude business going back',\n",
       " 'owner really great people',\n",
       " 'nothing privileged working eating',\n",
       " 'greek dressing creamy flavorful',\n",
       " 'overall think would take parents place made similar complaints silently felt',\n",
       " 'pizza good peanut sauce tasty',\n",
       " 'table service pretty fast',\n",
       " 'fantastic service',\n",
       " 'well would given godfathers zero stars possible',\n",
       " 'know make',\n",
       " 'tough short flavor',\n",
       " 'hope place sticks around',\n",
       " 'bars vegas ever recall charged tap water',\n",
       " 'restaurant atmosphere exquisite',\n",
       " 'good service clean inexpensive boot',\n",
       " 'seafood fresh generous portion',\n",
       " 'plus bucks',\n",
       " 'service par either',\n",
       " 'thus far visited twice food absolutely delicious time',\n",
       " 'good year ago',\n",
       " 'self proclaimed coffee cafe wildly disappointed',\n",
       " 'veggitarian platter world',\n",
       " 'cant go wrong food',\n",
       " 'beat',\n",
       " 'stopped place madison ironman friendly kind staff',\n",
       " 'chefs friendly good job',\n",
       " 'better dedicated boba tea spots even jenni pho',\n",
       " 'liked patio service outstanding',\n",
       " 'goat taco skimp meat wow flavor',\n",
       " 'think',\n",
       " 'mac salad pretty bland getting',\n",
       " 'went bachi burger friend recommendation disappointed',\n",
       " 'service stinks',\n",
       " 'waited waited',\n",
       " 'place quality sushi quality restaurant',\n",
       " 'would definitely recommend wings well pizza',\n",
       " 'great pizza salads',\n",
       " 'things went wrong burned saganaki',\n",
       " 'waited hour breakfast could done times better home',\n",
       " 'place amazing',\n",
       " 'hate disagree fellow yelpers husband disappointed place',\n",
       " 'waited hours never got either pizzas many around us came later',\n",
       " 'know slow',\n",
       " 'staff great food delish incredible beer selection',\n",
       " 'live neighborhood disappointed back convenient location',\n",
       " 'know pulled pork could soooo delicious',\n",
       " 'get incredibly fresh fish prepared care',\n",
       " 'go gave star rating please know third time eating bachi burger writing review',\n",
       " 'love fact everything menu worth',\n",
       " 'never dining place',\n",
       " 'food excellent service good',\n",
       " 'good beer drink selection good food selection',\n",
       " 'please stay away shrimp stir fried noodles',\n",
       " 'potato chip order sad could probably count many chips box probably around',\n",
       " 'food really boring',\n",
       " 'good service check',\n",
       " 'greedy corporation never see another dime',\n",
       " 'never ever go back',\n",
       " 'much like go back get passed atrocious service never return',\n",
       " 'summer dine charming outdoor patio delightful',\n",
       " 'expect good',\n",
       " 'fantastic food',\n",
       " 'ordered toasted english muffin came untoasted',\n",
       " 'food good',\n",
       " 'never going back',\n",
       " 'great food price high quality house made',\n",
       " 'bus boy hand rude',\n",
       " 'point friends basically figured place joke mind making publicly loudly known',\n",
       " 'back good bbq lighter fare reasonable pricing tell public back old ways',\n",
       " 'considering two us left full happy go wrong',\n",
       " 'bread made house',\n",
       " 'downside service',\n",
       " 'also fries without doubt worst fries ever',\n",
       " 'service exceptional food good reviews',\n",
       " 'couple months later returned amazing meal',\n",
       " 'favorite place town shawarrrrrrma',\n",
       " 'black eyed peas sweet potatoes unreal',\n",
       " 'disappointed',\n",
       " 'could serve vinaigrette may make better overall dish still good',\n",
       " 'go far many places never seen restaurant serves egg breakfast especially',\n",
       " 'mom got home immediately got sick bites salad',\n",
       " 'servers pleasant deal always honor pizza hut coupons',\n",
       " 'truly unbelievably good glad went back',\n",
       " 'fantastic service pleased atmosphere',\n",
       " 'everything gross',\n",
       " 'love place',\n",
       " 'great service food',\n",
       " 'first bathrooms location dirty seat covers replenished plain yucky',\n",
       " 'burger got gold standard burger kind disappointed',\n",
       " 'omg food delicioso',\n",
       " 'nothing authentic place',\n",
       " 'spaghetti nothing special whatsoever',\n",
       " 'dishes salmon best great',\n",
       " 'vegetables fresh sauce feels like authentic thai',\n",
       " 'worth driving tucson',\n",
       " 'selection probably worst seen vegas none',\n",
       " 'pretty good beer selection',\n",
       " 'place like chipotle better',\n",
       " 'classy warm atmosphere fun fresh appetizers succulent steaks baseball steak',\n",
       " 'stars brick oven bread app',\n",
       " 'eaten multiple times time food delicious',\n",
       " 'sat another ten minutes finally gave left',\n",
       " 'terrible',\n",
       " 'everyone treated equally special',\n",
       " 'take min pancakes eggs',\n",
       " 'delicious',\n",
       " 'good side staff genuinely pleasant enthusiastic real treat',\n",
       " 'sadly gordon ramsey steak place shall sharply avoid next trip vegas',\n",
       " 'always evening wonderful food delicious',\n",
       " 'best fish ever life',\n",
       " 'bathroom next door nice',\n",
       " 'buffet small food offered bland',\n",
       " 'outstanding little restaurant best food ever tasted',\n",
       " 'pretty cool would say',\n",
       " 'definitely turn doubt back unless someone else buying',\n",
       " 'server great job handling large rowdy table',\n",
       " 'find wasting food despicable food',\n",
       " 'wife lobster bisque soup lukewarm',\n",
       " 'would come back sushi craving vegas',\n",
       " 'staff great ambiance great',\n",
       " 'deserves stars',\n",
       " 'left stomach ache felt sick rest day',\n",
       " 'dropped ball',\n",
       " 'dining space tiny elegantly decorated comfortable',\n",
       " 'customize order way like usual eggplant green bean stir fry love',\n",
       " 'beans rice mediocre best',\n",
       " 'best tacos town far',\n",
       " 'took back money got outta',\n",
       " 'interesting part town place amazing',\n",
       " 'rude inconsiderate management',\n",
       " 'staff friendly wait times served horrible one even says hi first minutes',\n",
       " 'back',\n",
       " 'great dinners',\n",
       " 'service outshining definitely recommend halibut',\n",
       " 'food terrible',\n",
       " 'never ever go back told many people happened',\n",
       " 'recommend unless car breaks front starving',\n",
       " 'come back every time vegas',\n",
       " 'place deserves one star food',\n",
       " 'disgrace',\n",
       " 'def coming back bowl next time',\n",
       " 'want healthy authentic ethic food try place',\n",
       " 'continue come ladies night andddd date night highly recommend place anyone area',\n",
       " 'several times past experience always great',\n",
       " 'walked away stuffed happy first vegas buffet experience',\n",
       " 'service excellent prices pretty reasonable considering vegas located inside crystals shopping mall aria',\n",
       " 'summarize food incredible nay transcendant nothing brings joy quite like memory pneumatic condiment dispenser',\n",
       " 'probably one people ever go ians like',\n",
       " 'kids pizza always hit lots great side dish options kiddos',\n",
       " 'service perfect family atmosphere nice see',\n",
       " 'cooked perfection service impeccable',\n",
       " 'one simply disappointment',\n",
       " 'overall disappointed quality food bouchon',\n",
       " 'accountant know getting screwed',\n",
       " 'great place eat reminds little mom pop shops san francisco bay area',\n",
       " 'today first taste buldogis gourmet hot dog tell ever thought possible',\n",
       " 'left frustrated',\n",
       " 'definitely soon',\n",
       " 'food really good got full petty fast',\n",
       " 'service fantastic',\n",
       " 'total waste time',\n",
       " 'know kind best iced tea',\n",
       " 'come hungry leave happy stuffed',\n",
       " 'service give stars',\n",
       " 'assure disappointed',\n",
       " 'take little bad service food sucks',\n",
       " 'gave trying eat crust teeth still sore',\n",
       " 'completely grossed',\n",
       " 'really enjoyed eating',\n",
       " 'first time going think quickly become regular',\n",
       " 'server nice even though looked little overwhelmed needs stayed professional friendly end',\n",
       " 'dinner companions told everything fresh nice texture taste',\n",
       " 'ground right next table large smeared stepped tracked everywhere pile green bird poop',\n",
       " 'furthermore even find hours operation website',\n",
       " 'tried like place times think done',\n",
       " 'mistake',\n",
       " 'complaints',\n",
       " 'seriously good pizza expert connisseur topic',\n",
       " 'waiter jerk',\n",
       " 'strike wants rushed',\n",
       " 'nicest restaurant owners ever come across',\n",
       " 'never come',\n",
       " 'loved biscuits',\n",
       " 'service quick friendly',\n",
       " 'ordered appetizer took minutes pizza another minutes',\n",
       " 'absolutley fantastic',\n",
       " 'huge awkward lb piece cow ths gristle fat',\n",
       " 'definitely come back',\n",
       " 'like steiners dark feels like bar',\n",
       " 'wow spicy delicious',\n",
       " 'familiar check',\n",
       " 'take business dinner dollars elsewhere',\n",
       " 'love go back',\n",
       " 'anyway fs restaurant wonderful breakfast lunch',\n",
       " 'nothing special',\n",
       " 'day week different deal delicious',\n",
       " 'mention combination pears almonds bacon big winner',\n",
       " 'back',\n",
       " 'sauce tasteless',\n",
       " 'food delicious spicy enough sure ask spicier prefer way',\n",
       " 'ribeye steak cooked perfectly great mesquite flavor',\n",
       " 'think going back anytime soon',\n",
       " 'food gooodd',\n",
       " 'far sushi connoisseur definitely tell difference good food bad food certainly bad food',\n",
       " 'insulted',\n",
       " 'last times lunch bad',\n",
       " 'chicken wings contained driest chicken meat ever eaten',\n",
       " 'food good enjoyed every mouthful enjoyable relaxed venue couples small family groups etc',\n",
       " 'nargile think great',\n",
       " 'best tater tots southwest',\n",
       " 'loved place',\n",
       " 'definitely worth paid',\n",
       " 'vanilla ice cream creamy smooth profiterole choux pastry fresh enough',\n",
       " 'im az time new spot',\n",
       " 'manager worst',\n",
       " 'inside really quite nice clean',\n",
       " 'food outstanding prices reasonable',\n",
       " 'think running back carly anytime soon food',\n",
       " 'due fact took minutes acknowledged another minutes get food kept forgetting things',\n",
       " 'love margaritas',\n",
       " 'first vegas buffet disappoint',\n",
       " 'good though',\n",
       " 'one note ventilation could use upgrading',\n",
       " 'great pork sandwich',\n",
       " 'waste time',\n",
       " 'total letdown would much rather go camelback flower shop cartel coffee',\n",
       " 'third cheese friend burger cold',\n",
       " 'enjoy pizza brunch',\n",
       " 'steaks well trimmed also perfectly cooked',\n",
       " 'group claimed would handled us beautifully',\n",
       " 'loved',\n",
       " 'asked bill leave without eating bring either',\n",
       " 'place jewel las vegas exactly hoping find nearly ten years living',\n",
       " 'seafood limited boiled shrimp crab legs crab legs definitely taste fresh',\n",
       " 'selection food best',\n",
       " 'delicious absolutely back',\n",
       " 'small family restaurant fine dining establishment',\n",
       " 'toro tartare cavier extraordinary liked thinly sliced wagyu white truffle',\n",
       " 'dont think back long time',\n",
       " 'attached gas station rarely good sign',\n",
       " 'awesome',\n",
       " 'back many times soon',\n",
       " 'menu much good stuff could decide',\n",
       " 'worse humiliated worker right front bunch horrible name callings',\n",
       " 'conclusion filling meals',\n",
       " 'daily specials always hit group',\n",
       " 'tragedy struck',\n",
       " 'pancake also really good pretty large',\n",
       " 'first crawfish experience delicious',\n",
       " 'monster chicken fried steak eggs time favorite',\n",
       " 'waitress sweet funny',\n",
       " 'also taste mom multi grain pumpkin pancakes pecan butter amazing fluffy delicious',\n",
       " 'rather eat airline food seriously',\n",
       " 'cant say enough good things place',\n",
       " 'ambiance incredible',\n",
       " 'waitress manager friendly',\n",
       " 'would recommend place',\n",
       " 'overall impressed noca',\n",
       " 'gyro basically lettuce',\n",
       " 'terrible service',\n",
       " 'thoroughly disappointed',\n",
       " 'much pasta love homemade hand made pastas thin pizzas',\n",
       " 'give try happy',\n",
       " 'far best cheesecurds ever',\n",
       " 'reasonably priced also',\n",
       " 'everything perfect night',\n",
       " 'food good typical bar food',\n",
       " 'drive get',\n",
       " 'first glance lovely bakery cafe nice ambiance clean friendly staff',\n",
       " 'anyway think go back',\n",
       " 'point finger item menu order disappointed',\n",
       " 'oh thing beauty restaurant',\n",
       " 'gone go',\n",
       " 'greasy unhealthy meal',\n",
       " 'first time might last',\n",
       " 'burgers amazing',\n",
       " 'similarly delivery man say word apology food minutes late',\n",
       " 'way expensive',\n",
       " 'sure order dessert even need pack go tiramisu cannoli die',\n",
       " 'first time wait next',\n",
       " 'bartender also nice',\n",
       " 'everything good tasty',\n",
       " 'place two thumbs way',\n",
       " 'best place vegas breakfast check sat sun',\n",
       " 'love authentic mexican food want whole bunch interesting yet delicious meats choose need try place',\n",
       " 'terrible management',\n",
       " 'excellent new restaurant experienced frenchman',\n",
       " 'zero stars would give zero stars',\n",
       " 'great steak great sides great wine amazing desserts',\n",
       " 'worst martini ever',\n",
       " 'steak shrimp opinion best entrees gc',\n",
       " 'opportunity today sample amazing pizzas',\n",
       " 'waited thirty minutes seated although vacant tables folks waiting',\n",
       " 'yellowtail carpaccio melt mouth fresh',\n",
       " 'try going back even empty',\n",
       " 'going eat potato found strangers hair',\n",
       " 'spicy enough perfect actually',\n",
       " 'last night second time dining happy decided go back',\n",
       " 'even hello right',\n",
       " 'desserts bit strange',\n",
       " 'boyfriend came first time recent trip vegas could pleased quality food service',\n",
       " 'really recommend place go wrong donut place',\n",
       " 'nice ambiance',\n",
       " 'would recommend saving room',\n",
       " 'guess maybe went night disgraceful',\n",
       " 'however recent experience particular location good',\n",
       " 'know like restaurants something',\n",
       " 'avoid establishment',\n",
       " 'think restaurant suffers trying hard enough',\n",
       " 'tapas dishes delicious',\n",
       " 'heart place',\n",
       " 'salad bland vinegrette baby greens hearts palm',\n",
       " 'two felt disgusting',\n",
       " 'good time',\n",
       " 'believe place great stop huge belly hankering sushi',\n",
       " 'generous portions great taste',\n",
       " 'never go back place never ever recommended place anyone',\n",
       " 'servers went back forth several times even much helped',\n",
       " 'food delicious',\n",
       " 'hour seriously',\n",
       " 'consider theft',\n",
       " 'eew location needs complete overhaul',\n",
       " 'recently witnessed poor quality management towards guests well',\n",
       " 'waited waited waited',\n",
       " 'also came back check us regularly excellent service',\n",
       " 'server super nice checked us many times',\n",
       " 'pizza tasted old super chewy good way',\n",
       " 'swung give try deeply disappointed',\n",
       " 'service good company better',\n",
       " 'staff also friendly efficient',\n",
       " 'service fan quick served nice folks',\n",
       " 'boy sucker dry',\n",
       " 'rated',\n",
       " 'look authentic thai food go else',\n",
       " 'steaks recommended',\n",
       " 'pulled car waited another minutes acknowledged',\n",
       " 'great food great service clean friendly setting',\n",
       " 'assure back',\n",
       " 'hate things much cheap quality black olives',\n",
       " 'breakfast perpared great beautiful presentation giant slices toast lightly dusted powdered sugar',\n",
       " 'kids play area nasty',\n",
       " 'great place fo take eat',\n",
       " 'waitress friendly happy accomodate vegan veggie options',\n",
       " 'omg felt like never eaten thai food dish',\n",
       " 'extremely crumby pretty tasteless',\n",
       " 'pale color instead nice char flavor',\n",
       " 'croutons also taste homemade extra plus',\n",
       " 'got home see driest damn wings ever',\n",
       " 'regular stop trips phoenix',\n",
       " 'really enjoyed crema caf expanded even told friends best breakfast',\n",
       " 'good money',\n",
       " 'miss wish one philadelphia',\n",
       " 'got sitting fairly fast ended waiting minutes place order another minutes food arrived',\n",
       " 'also best cheese crisp town',\n",
       " 'good value great food great service',\n",
       " 'ask satisfying meal',\n",
       " 'food good',\n",
       " 'awesome',\n",
       " 'wanted leave',\n",
       " 'made drive way north scottsdale one bit disappointed',\n",
       " 'eating',\n",
       " 'owners really really need quit soooooo cheap let wrap freaking sandwich two papers one',\n",
       " 'checked place couple years ago impressed',\n",
       " 'chicken got definitely reheated ok wedges cold soggy',\n",
       " 'sorry getting food anytime soon',\n",
       " 'absolute must visit',\n",
       " 'cow tongue cheek tacos amazing',\n",
       " 'friend like bloody mary',\n",
       " 'despite hard rate businesses actually rare give star',\n",
       " 'really want make experience good one',\n",
       " 'return',\n",
       " 'chicken pho tasted bland',\n",
       " 'disappointing',\n",
       " 'grilled chicken tender yellow saffron seasoning',\n",
       " 'drive thru means want wait around half hour food somehow end going make us wait wait',\n",
       " 'pretty awesome place',\n",
       " 'ambience perfect',\n",
       " 'best luck rude non customer service focused new management',\n",
       " 'grandmother make roasted chicken better one',\n",
       " 'asked multiple times wine list time ignored went hostess got one',\n",
       " 'staff always super friendly helpful especially cool bring two small boys baby',\n",
       " 'four stars food guy blue shirt great vibe still letting us eat',\n",
       " 'roast beef sandwich tasted really good',\n",
       " 'evening drastically sick',\n",
       " 'high quality chicken chicken caesar salad',\n",
       " 'ordered burger rare came done',\n",
       " 'promptly greeted seated',\n",
       " 'tried go lunch madhouse',\n",
       " 'proven dead wrong sushi bar quality great service fast food impeccable',\n",
       " 'waiting hour seated greatest moods',\n",
       " 'good joint',\n",
       " 'macarons insanely good',\n",
       " 'eating',\n",
       " 'waiter attentive friendly informative',\n",
       " 'maybe cold would somewhat edible',\n",
       " 'place lot promise fails deliver',\n",
       " 'bad experience',\n",
       " 'mistake',\n",
       " 'food average best',\n",
       " 'great food',\n",
       " 'going back anytime soon',\n",
       " 'disappointed ordered big bay plater',\n",
       " 'great place relax awesome burger beer',\n",
       " 'perfect sit family meal get together friends',\n",
       " 'much flavor poorly constructed',\n",
       " 'patio seating comfortable',\n",
       " 'fried rice dry well',\n",
       " 'hands favorite italian restaurant',\n",
       " 'screams legit book somethat also pretty rare vegas',\n",
       " 'fun experience',\n",
       " 'atmosphere great lovely duo violinists playing songs requested',\n",
       " 'personally love hummus pita baklava falafels baba ganoush amazing eggplant',\n",
       " 'convenient since staying mgm',\n",
       " 'owners super friendly staff courteous',\n",
       " 'great',\n",
       " 'eclectic selection',\n",
       " 'sweet potato tots good onion rings perfection close',\n",
       " 'staff attentive',\n",
       " 'chef generous time even came around twice take pictures',\n",
       " 'owner used work nobu place really similar half price',\n",
       " 'google mediocre imagine smashburger pop',\n",
       " 'dont go',\n",
       " 'promise disappoint',\n",
       " 'sushi lover avoid place means',\n",
       " 'great double cheeseburger',\n",
       " 'awesome service food',\n",
       " 'fantastic neighborhood gem',\n",
       " 'wait go back',\n",
       " 'plantains worst ever tasted',\n",
       " 'great place highly recommend',\n",
       " 'service slow attentive',\n",
       " 'gave stars giving stars',\n",
       " 'staff spends time talking',\n",
       " 'dessert panna cotta amazing',\n",
       " 'good food great atmosphere',\n",
       " 'damn good steak',\n",
       " 'total brunch fail',\n",
       " 'prices reasonable flavors spot sauce home made slaw drenched mayo',\n",
       " 'decor nice piano music soundtrack pleasant',\n",
       " 'steak amazing rge fillet relleno best seafood plate ever',\n",
       " 'good food good service',\n",
       " 'absolutely amazing',\n",
       " 'probably back honest',\n",
       " 'definitely back',\n",
       " 'sergeant pepper beef sandwich auju sauce excellent sandwich well',\n",
       " 'hawaiian breeze mango magic pineapple delight smoothies tried far good',\n",
       " 'went lunch service slow',\n",
       " 'much say place walked expected amazing quickly disappointed',\n",
       " 'mortified',\n",
       " 'needless say never back',\n",
       " 'anyways food definitely filling price pay expect',\n",
       " 'chips came dripping grease mostly edible',\n",
       " 'really impressed strip steak',\n",
       " 'going since every meal awesome',\n",
       " 'server nice attentive serving staff',\n",
       " 'cashier friendly even brought food',\n",
       " 'work hospitality industry paradise valley refrained recommending cibo longer',\n",
       " 'atmosphere fun',\n",
       " 'would recommend others',\n",
       " 'service quick even go orders like like',\n",
       " 'mean really get famous fish chips terrible',\n",
       " 'said mouths bellies still quite pleased',\n",
       " 'thing',\n",
       " 'thumbs',\n",
       " 'reading please go',\n",
       " 'loved grilled pizza reminded legit italian pizza',\n",
       " 'pros large seating area nice bar area great simple drink menu best brick oven pizza homemade dough',\n",
       " 'really nice atmosphere',\n",
       " 'tonight elk filet special sucked',\n",
       " 'one bite hooked',\n",
       " 'ordered old classics new dishes going times sorely disappointed everything',\n",
       " 'cute quaint simple honest',\n",
       " 'chicken deliciously seasoned perfect fry outside moist chicken inside',\n",
       " 'food great always compliments chef',\n",
       " 'special thanks dylan recommendation order yummy tummy',\n",
       " 'awesome selection beer',\n",
       " 'great food awesome service',\n",
       " 'one nice thing added gratuity bill since party larger expect tip',\n",
       " 'fly apple juice fly',\n",
       " 'han nan chicken also tasty',\n",
       " 'service thought good',\n",
       " 'food barely lukewarm must sitting waiting server bring us',\n",
       " 'ryan bar definitely one edinburgh establishment revisiting',\n",
       " 'nicest chinese restaurant',\n",
       " 'overall like food service',\n",
       " 'also serve indian naan bread hummus spicy pine nut sauce world',\n",
       " 'probably never coming back recommend',\n",
       " 'friend pasta also bad barely touched',\n",
       " 'try airport experience tasty food speedy friendly service',\n",
       " 'love decor chinese calligraphy wall paper',\n",
       " 'never anything complain',\n",
       " 'restaurant clean family restaurant feel',\n",
       " 'way fried',\n",
       " 'sure long stood long enough begin feel awkwardly place',\n",
       " 'opened sandwich impressed good way',\n",
       " 'back',\n",
       " 'warm feeling service felt like guest special treat',\n",
       " 'extensive menu provides lots options breakfast',\n",
       " 'always order vegetarian menu dinner wide array options choose',\n",
       " 'watched prices inflate portions get smaller management attitudes grow rapidly',\n",
       " 'wonderful lil tapas ambience made feel warm fuzzy inside',\n",
       " 'got enjoy seafood salad fabulous vinegrette',\n",
       " 'wontons thin thick chewy almost melt mouth',\n",
       " 'level spicy perfect spice whelm soup',\n",
       " 'sat right time server get go fantastic',\n",
       " 'main thing enjoy crowd older crowd around mid',\n",
       " 'side town definitely spot hit',\n",
       " 'wait minutes get drink longer get arepas',\n",
       " 'great place eat',\n",
       " 'jalapeno bacon soooo good',\n",
       " 'service poor thats nice',\n",
       " 'food good service good prices good',\n",
       " 'place clean food oh stale',\n",
       " 'chicken dishes ok beef like shoe leather',\n",
       " 'service beyond bad',\n",
       " 'happy',\n",
       " 'tasted like dirt',\n",
       " 'one places phoenix would definately go back',\n",
       " 'block amazing',\n",
       " 'close house low key non fancy affordable prices good food',\n",
       " 'hot sour egg flower soups absolutely stars',\n",
       " 'sashimi poor quality soggy tasteless',\n",
       " 'great time family dinner sunday night',\n",
       " 'food tasty say real traditional hunan style',\n",
       " 'bother slow service',\n",
       " 'flair bartenders absolutely amazing',\n",
       " 'frozen margaritas way sugary taste',\n",
       " 'good ordered twice',\n",
       " 'nutshell restaraunt smells like combination dirty fish market sewer',\n",
       " 'girlfriend veal bad',\n",
       " 'unfortunately good',\n",
       " 'pretty satifying experience',\n",
       " 'join club get awesome offers via email',\n",
       " 'perfect someone likes beer ice cold case even colder',\n",
       " 'bland flavorless good way describing barely tepid meat',\n",
       " 'chains fan beat place easily',\n",
       " 'nachos must',\n",
       " 'coming back',\n",
       " 'many words say place everything pretty well',\n",
       " 'staff super nice quick even crazy crowds downtown juries lawyers court staff',\n",
       " 'great atmosphere friendly fast service',\n",
       " 'received pita huge lot meat thumbs',\n",
       " 'food arrives meh',\n",
       " 'paying hot dog fries looks like came kid meal wienerschnitzel idea good meal',\n",
       " 'classic maine lobster roll fantastic',\n",
       " 'brother law works mall ate day guess sick night',\n",
       " 'good going review place twice hereas tribute place tribute event held last night',\n",
       " 'chips salsa really good salsa fresh',\n",
       " 'place great',\n",
       " 'mediocre food',\n",
       " 'get inside impressed place',\n",
       " 'super pissd',\n",
       " 'service super friendly',\n",
       " 'sad little vegetables overcooked',\n",
       " 'place nice surprise',\n",
       " 'golden crispy delicious',\n",
       " 'high hopes place since burgers cooked charcoal grill unfortunately taste fell flat way flat',\n",
       " 'could eat bruschetta day devine',\n",
       " 'single employee came see ok even needed water refill finally served us food',\n",
       " 'lastly mozzarella sticks best thing ordered',\n",
       " 'first time ever came amazing experience still tell people awesome duck',\n",
       " 'server negligent needs made us feel unwelcome would suggest place',\n",
       " 'service terrible though',\n",
       " 'place overpriced consistent boba really overpriced',\n",
       " 'packed',\n",
       " 'love place',\n",
       " 'say desserts yummy',\n",
       " 'food terrible',\n",
       " 'seasonal fruit fresh white peach puree',\n",
       " 'kept getting worse worse officially done',\n",
       " 'place honestly blown',\n",
       " 'definitely would eat',\n",
       " 'waste money',\n",
       " 'love put food nice plastic containers opposed cramming little paper takeout boxes',\n",
       " 'cr pe delicate thin moist',\n",
       " 'awful service',\n",
       " 'ever go',\n",
       " 'food quality horrible',\n",
       " 'price think place would much rather gone',\n",
       " 'service fair best',\n",
       " 'love sushi found kabuki priced hip services',\n",
       " 'favor stay away dish',\n",
       " 'poor service',\n",
       " 'one table thought food average worth wait',\n",
       " 'best service food ever maria server good friendly made day',\n",
       " 'excellent',\n",
       " 'paid bill tip felt server terrible job',\n",
       " 'lunch great experience',\n",
       " 'never bland food surprised considering article read focused much spices flavor',\n",
       " 'food way overpriced portions fucking small',\n",
       " 'recently tried caballero back every week since',\n",
       " 'bucks head really expect better food',\n",
       " 'food came good pace',\n",
       " 'ate twice last visit especially enjoyed salmon salad',\n",
       " 'back',\n",
       " 'could believe dirty oysters',\n",
       " 'place deserves stars',\n",
       " 'would recommend place',\n",
       " 'fact going round stars awesome',\n",
       " 'disbelief dish qualified worst version foods ever tasted',\n",
       " 'bad day low tolerance rude customer service people job nice polite wash dishes otherwise',\n",
       " 'potatoes great biscuit',\n",
       " 'probably would go',\n",
       " 'flavorful perfect amount heat',\n",
       " 'price reasonable service great',\n",
       " 'wife hated meal coconut shrimp friends really enjoy meals either',\n",
       " 'fella got huevos rancheros look appealing',\n",
       " 'went happy hour great list wines',\n",
       " 'may say buffet pricey think get pay place getting quite lot',\n",
       " 'probably coming back',\n",
       " 'worst food service',\n",
       " 'place pretty good nice little vibe restaurant',\n",
       " 'talk great customer service course back',\n",
       " 'hot dishes hot cold dishes close room temp watched staff prepare food bare hands gloves everything deep fried oil',\n",
       " 'love fries beans',\n",
       " 'always pleasure dealing',\n",
       " 'plethora salads sandwiches everything tried gets seal approval',\n",
       " 'place awesome want something light healthy summer',\n",
       " 'sushi strip place go',\n",
       " 'service great even manager came helped table',\n",
       " 'feel dining room college cooking course high class dining service slow best',\n",
       " 'started review two stars editing give one',\n",
       " 'worst sushi ever eat besides costco',\n",
       " 'excellent restaurant highlighted great service unique menu beautiful setting',\n",
       " 'boyfriend sat bar completely delightful experience',\n",
       " 'weird vibe owners',\n",
       " 'hardly meat',\n",
       " 'better bagels grocery store',\n",
       " 'go place gyros',\n",
       " 'love owner chef one authentic japanese cool dude',\n",
       " 'burgers good pizza used amazing doughy flavorless',\n",
       " 'found six inch long piece wire salsa',\n",
       " 'service terrible food mediocre',\n",
       " 'definately enjoyed',\n",
       " 'ordered albondigas soup warm tasted like tomato soup frozen meatballs',\n",
       " 'three different occasions asked well done medium well three times got bloodiest piece meat plate',\n",
       " 'two bites refused eat anymore',\n",
       " 'service extremely slow',\n",
       " 'minutes wait got table',\n",
       " 'seriously killer hot chai latte',\n",
       " 'allergy warnings menu waitress absolutely clue meals contain peanuts',\n",
       " 'boyfriend tried mediterranean chicken salad fell love',\n",
       " 'rotating beers tap also highlight place',\n",
       " 'pricing bit concern mellow mushroom',\n",
       " 'worst thai ever',\n",
       " 'stay vegas must get breakfast least',\n",
       " 'want first say server great perfect service',\n",
       " 'pizza selections good',\n",
       " 'strawberry tea good',\n",
       " 'highly unprofessional rude loyal patron',\n",
       " 'overall great experience',\n",
       " 'spend money elsewhere',\n",
       " 'regular toasted bread equally satisfying occasional pats butter mmmm',\n",
       " 'buffet bellagio far anticipated',\n",
       " 'drinks weak people',\n",
       " 'order correct',\n",
       " 'also feel like chips bought made house',\n",
       " 'disappointing dinner went elsewhere dessert',\n",
       " 'chips sals amazing',\n",
       " 'returning',\n",
       " 'new fav vegas buffet spot',\n",
       " 'seriously cannot believe owner many unexperienced employees running around like chickens heads cut',\n",
       " 'sad',\n",
       " 'felt insulted disrespected could talk judge another human like',\n",
       " 'call steakhouse properly cook steak understand',\n",
       " 'impressed concept food',\n",
       " 'thing crazy guacamole like pur ed',\n",
       " 'really nothing postinos hope experience better',\n",
       " 'got food poisoning buffet',\n",
       " 'brought fresh batch fries thinking yay something warm',\n",
       " 'hilarious yummy christmas eve dinner remember biggest fail entire trip us',\n",
       " 'needless say going back anytime soon',\n",
       " 'place disgusting',\n",
       " 'every time eat see caring teamwork professional degree',\n",
       " 'ri style calamari joke',\n",
       " 'however much garlic fondue barely edible',\n",
       " 'could barely stomach meal complain business lunch',\n",
       " 'bad lost heart finish',\n",
       " 'also took forever bring us check asked',\n",
       " 'ones make scene restaurants get definitely lost love one',\n",
       " 'disappointing experience',\n",
       " 'food par denny say good',\n",
       " 'want wait mediocre food downright terrible service place',\n",
       " 'waaaaaayyyyyyyyyy rated saying',\n",
       " 'going back',\n",
       " 'place fairly clean food simply worth',\n",
       " 'place lacked style',\n",
       " 'sangria half glass wine full ridiculous',\n",
       " 'bother coming',\n",
       " 'meat pretty dry sliced brisket pulled pork',\n",
       " 'building seems pretty neat bathroom pretty trippy eat',\n",
       " 'equally awful',\n",
       " 'probably hurry go back',\n",
       " 'slow seating even reservation',\n",
       " 'good stretch imagination',\n",
       " 'cashew cream sauce bland vegetables undercooked',\n",
       " 'chipolte ranch dipping sause tasteless seemed thin watered heat',\n",
       " 'bit sweet really spicy enough lacked flavor',\n",
       " 'disappointed',\n",
       " 'place horrible way overpriced',\n",
       " 'maybe vegetarian fare twice thought average best',\n",
       " 'busy know',\n",
       " 'tables outside also dirty lot time workers always friendly helpful menu',\n",
       " 'ambiance feel like buffet setting douchey indoor garden tea biscuits',\n",
       " 'con spotty service',\n",
       " 'fries hot neither burger',\n",
       " 'came back cold',\n",
       " 'food came disappointment ensued',\n",
       " 'real disappointment waiter',\n",
       " 'husband said rude even apologize bad food anything',\n",
       " 'reason eat would fill night binge drinking get carbs stomach',\n",
       " 'insults profound deuchebaggery go outside smoke break serving solidify',\n",
       " 'someone orders two tacos think may part customer service ask combo ala cart',\n",
       " 'quite disappointed although blame needs placed door',\n",
       " 'rave reviews wait eat disappointment',\n",
       " 'del taco pretty nasty avoided possible',\n",
       " 'hard make decent hamburger',\n",
       " 'like',\n",
       " 'hell go back',\n",
       " 'gotten much better service pizza place next door services received restaurant',\n",
       " 'know big deal place back ya',\n",
       " 'immediately said wanted talk manager want talk guy shots fireball behind bar',\n",
       " 'ambiance much better',\n",
       " 'unfortunately set us disapppointment entrees',\n",
       " 'food good',\n",
       " 'servers suck wait correction server heimer sucked',\n",
       " 'happened next pretty putting',\n",
       " 'bad cause know family owned really wanted like place',\n",
       " 'overpriced getting',\n",
       " 'vomited bathroom mid lunch',\n",
       " 'kept looking time soon become minutes yet still food',\n",
       " 'places eat circumstances would ever return tops list',\n",
       " 'started tuna sashimi brownish color obviously fresh',\n",
       " 'food average',\n",
       " 'sure beat nachos movies would expect little bit coming restaurant',\n",
       " 'ha long bay bit flop',\n",
       " 'problem charge sandwich bigger subway sub offers better amount vegetables',\n",
       " 'shrimp unwrapped live mile brushfire literally ice cold',\n",
       " 'lacked flavor seemed undercooked dry',\n",
       " 'really impressive place closed',\n",
       " 'would avoid place staying mirage',\n",
       " 'refried beans came meal dried crusty food bland',\n",
       " 'spend money time place else',\n",
       " 'lady table next us found live green caterpillar salad',\n",
       " 'presentation food awful',\n",
       " 'tell disappointed',\n",
       " 'think food flavor texture lacking',\n",
       " 'appetite instantly gone',\n",
       " 'overall impressed would go back',\n",
       " 'whole experience underwhelming think go ninja sushi next time',\n",
       " 'wasted enough life poured salt wound drawing time took bring check',\n",
       " ...]"
      ]
     },
     "execution_count": 16,
     "metadata": {},
     "output_type": "execute_result"
    }
   ],
   "source": [
    "corpus"
   ]
  },
  {
   "cell_type": "markdown",
   "id": "521f9967",
   "metadata": {},
   "source": [
    "# DATE 26 JULY 2022"
   ]
  },
  {
   "cell_type": "markdown",
   "id": "0cb07a26",
   "metadata": {},
   "source": [
    "# countvectorizer"
   ]
  },
  {
   "cell_type": "markdown",
   "id": "1b02d665",
   "metadata": {},
   "source": [
    "From the cleaned dataset, potential features are extracted and are converted to numerical format.\n",
    "The vectorization techniques are used to convert textual data to numerical format. Using vectorization, \n",
    "a matrix is created where each column represents a feature and each row represents an individual review."
   ]
  },
  {
   "cell_type": "code",
   "execution_count": 17,
   "id": "62f25b84",
   "metadata": {},
   "outputs": [],
   "source": [
    "from sklearn.feature_extraction.text import CountVectorizer"
   ]
  },
  {
   "cell_type": "code",
   "execution_count": 23,
   "id": "77473cdc",
   "metadata": {},
   "outputs": [],
   "source": [
    "cv=CountVectorizer()\n",
    "X=cv.fit_transform(corpus).toarray()\n",
    "y=df.iloc[:,1].values"
   ]
  },
  {
   "cell_type": "code",
   "execution_count": 24,
   "id": "2b8baa9f",
   "metadata": {},
   "outputs": [
    {
     "data": {
      "text/plain": [
       "array([[0, 0, 0, ..., 0, 0, 0],\n",
       "       [0, 0, 0, ..., 0, 0, 0],\n",
       "       [0, 0, 0, ..., 0, 0, 0],\n",
       "       ...,\n",
       "       [0, 0, 0, ..., 0, 0, 0],\n",
       "       [0, 0, 0, ..., 0, 0, 0],\n",
       "       [0, 0, 0, ..., 0, 0, 0]], dtype=int64)"
      ]
     },
     "execution_count": 24,
     "metadata": {},
     "output_type": "execute_result"
    }
   ],
   "source": [
    "X"
   ]
  },
  {
   "cell_type": "code",
   "execution_count": 25,
   "id": "206b14e5",
   "metadata": {},
   "outputs": [
    {
     "data": {
      "text/plain": [
       "(1386, 1893)"
      ]
     },
     "execution_count": 25,
     "metadata": {},
     "output_type": "execute_result"
    }
   ],
   "source": [
    "X.shape"
   ]
  },
  {
   "cell_type": "code",
   "execution_count": 26,
   "id": "15dcfa09",
   "metadata": {},
   "outputs": [
    {
     "data": {
      "text/plain": [
       "array([1, 0, 0, ..., 1, 0, 1], dtype=int64)"
      ]
     },
     "execution_count": 26,
     "metadata": {},
     "output_type": "execute_result"
    }
   ],
   "source": [
    "y"
   ]
  },
  {
   "cell_type": "markdown",
   "id": "755d1870",
   "metadata": {},
   "source": [
    "# Import pickle"
   ]
  },
  {
   "cell_type": "code",
   "execution_count": 27,
   "id": "dd1b15e3",
   "metadata": {},
   "outputs": [],
   "source": [
    "import pickle\n",
    "f=open('cv.pkl','wb')\n",
    "pickle.dump(cv,f)                  # stored file name cv.pkl...open home page & check"
   ]
  },
  {
   "cell_type": "markdown",
   "id": "5ac1ff63",
   "metadata": {},
   "source": [
    "# Model training"
   ]
  },
  {
   "cell_type": "markdown",
   "id": "57b3c693",
   "metadata": {},
   "source": [
    "Training and Classification Further the data is splitted into training and testing set using Cross Validation technique. This data is used as input to classification algorithm.\n",
    "Classification Algorithms:\n",
    "Algorithms like Decision tree, Support Vector Machine, Logistic Regression, Naive Bayes were implemented and on comparing the evaluation metrics two of the algorithms gave better predictions than others.\n",
    "Multinomial Naive Bayes Bernoulli Naive Bayes Logistic Regression\n",
    "\n"
   ]
  },
  {
   "cell_type": "markdown",
   "id": "b447708a",
   "metadata": {},
   "source": [
    "# Spliting the dataset into the Training & Testing set"
   ]
  },
  {
   "cell_type": "code",
   "execution_count": 28,
   "id": "c30da859",
   "metadata": {},
   "outputs": [],
   "source": [
    "from sklearn.model_selection import train_test_split"
   ]
  },
  {
   "cell_type": "code",
   "execution_count": 29,
   "id": "c802a9d9",
   "metadata": {},
   "outputs": [],
   "source": [
    "X_train,X_test,y_train,y_test=train_test_split(X,y,test_size=0.2,random_state=42)"
   ]
  },
  {
   "cell_type": "markdown",
   "id": "a340656c",
   "metadata": {},
   "source": [
    "# Multinomial NB"
   ]
  },
  {
   "cell_type": "code",
   "execution_count": 30,
   "id": "e2062ee2",
   "metadata": {},
   "outputs": [],
   "source": [
    "from sklearn.naive_bayes import MultinomialNB"
   ]
  },
  {
   "cell_type": "code",
   "execution_count": 32,
   "id": "f2b8337e",
   "metadata": {},
   "outputs": [
    {
     "data": {
      "text/plain": [
       "MultinomialNB(alpha=0.1)"
      ]
     },
     "execution_count": 32,
     "metadata": {},
     "output_type": "execute_result"
    }
   ],
   "source": [
    "classifier1=MultinomialNB(alpha=0.1)\n",
    "classifier1.fit(X_train,y_train)"
   ]
  },
  {
   "cell_type": "code",
   "execution_count": 34,
   "id": "3dea9573",
   "metadata": {},
   "outputs": [],
   "source": [
    "y_pred=classifier1.predict(X_test)"
   ]
  },
  {
   "cell_type": "code",
   "execution_count": 35,
   "id": "d35be8f6",
   "metadata": {},
   "outputs": [],
   "source": [
    "from sklearn.metrics import accuracy_score"
   ]
  },
  {
   "cell_type": "code",
   "execution_count": 36,
   "id": "c3f23528",
   "metadata": {},
   "outputs": [
    {
     "data": {
      "text/plain": [
       "0.802158273381295"
      ]
     },
     "execution_count": 36,
     "metadata": {},
     "output_type": "execute_result"
    }
   ],
   "source": [
    "accuracy_score(y_test,y_pred)"
   ]
  },
  {
   "cell_type": "code",
   "execution_count": 37,
   "id": "f55b55e4",
   "metadata": {},
   "outputs": [],
   "source": [
    "from sklearn.metrics import confusion_matrix"
   ]
  },
  {
   "cell_type": "code",
   "execution_count": 38,
   "id": "c1590c84",
   "metadata": {},
   "outputs": [
    {
     "name": "stdout",
     "output_type": "stream",
     "text": [
      "confusion_matrix:\n",
      " [[ 87  33]\n",
      " [ 22 136]]\n"
     ]
    }
   ],
   "source": [
    "cm=confusion_matrix(y_test,y_pred)\n",
    "print('confusion_matrix:\\n',cm)"
   ]
  },
  {
   "cell_type": "code",
   "execution_count": 39,
   "id": "734b2771",
   "metadata": {},
   "outputs": [],
   "source": [
    "from sklearn.metrics import classification_report"
   ]
  },
  {
   "cell_type": "code",
   "execution_count": 40,
   "id": "877e7964",
   "metadata": {},
   "outputs": [
    {
     "name": "stdout",
     "output_type": "stream",
     "text": [
      "classification_report\n",
      "               precision    recall  f1-score   support\n",
      "\n",
      "           0       0.80      0.72      0.76       120\n",
      "           1       0.80      0.86      0.83       158\n",
      "\n",
      "    accuracy                           0.80       278\n",
      "   macro avg       0.80      0.79      0.80       278\n",
      "weighted avg       0.80      0.80      0.80       278\n",
      "\n"
     ]
    }
   ],
   "source": [
    "print('classification_report\\n',classification_report(y_test,y_pred))"
   ]
  },
  {
   "cell_type": "code",
   "execution_count": 41,
   "id": "abdcc2d9",
   "metadata": {},
   "outputs": [],
   "source": [
    "from sklearn.metrics import precision_score\n",
    "from sklearn.metrics import recall_score"
   ]
  },
  {
   "cell_type": "code",
   "execution_count": 42,
   "id": "70b8b0d4",
   "metadata": {},
   "outputs": [
    {
     "data": {
      "text/plain": [
       "0.8047337278106509"
      ]
     },
     "execution_count": 42,
     "metadata": {},
     "output_type": "execute_result"
    }
   ],
   "source": [
    "precision_score(y_test,y_pred)"
   ]
  },
  {
   "cell_type": "code",
   "execution_count": 43,
   "id": "a294ac24",
   "metadata": {},
   "outputs": [
    {
     "data": {
      "text/plain": [
       "0.8607594936708861"
      ]
     },
     "execution_count": 43,
     "metadata": {},
     "output_type": "execute_result"
    }
   ],
   "source": [
    "recall_score(y_test,y_pred)"
   ]
  },
  {
   "cell_type": "code",
   "execution_count": 44,
   "id": "65c1654d",
   "metadata": {},
   "outputs": [],
   "source": [
    "import seaborn as sns"
   ]
  },
  {
   "cell_type": "code",
   "execution_count": 46,
   "id": "86017fc7",
   "metadata": {},
   "outputs": [
    {
     "data": {
      "image/png": "[encoded data removed]",
      "text/plain": [
       "<Figure size 432x288 with 2 Axes>"
      ]
     },
     "metadata": {
      "needs_background": "light"
     },
     "output_type": "display_data"
    }
   ],
   "source": [
    "sns.heatmap(cm,annot=True,fmt='d')\n",
    "plt.xlabel('Truth')\n",
    "plt.ylabel('Predicted')\n",
    "plt.show()"
   ]
  },
  {
   "cell_type": "markdown",
   "id": "750caed3",
   "metadata": {},
   "source": [
    "# Converting model into byte stream"
   ]
  },
  {
   "cell_type": "code",
   "execution_count": 47,
   "id": "eebf5125",
   "metadata": {},
   "outputs": [],
   "source": [
    "import pickle\n",
    "f=open('newmodel.pkl','wb')\n",
    "pickle.dump(classifier1,f)           # stored file name-newmodel.pkl"
   ]
  },
  {
   "cell_type": "markdown",
   "id": "80ed728d",
   "metadata": {},
   "source": [
    "# Bernoulli NB"
   ]
  },
  {
   "cell_type": "code",
   "execution_count": 48,
   "id": "9add6d7a",
   "metadata": {},
   "outputs": [],
   "source": [
    "from sklearn.naive_bayes import BernoulliNB"
   ]
  },
  {
   "cell_type": "code",
   "execution_count": 49,
   "id": "1ef17654",
   "metadata": {},
   "outputs": [
    {
     "data": {
      "text/plain": [
       "BernoulliNB(alpha=0.8)"
      ]
     },
     "execution_count": 49,
     "metadata": {},
     "output_type": "execute_result"
    }
   ],
   "source": [
    "classifier2=BernoulliNB(alpha=0.8)\n",
    "classifier2.fit(X_train,y_train)"
   ]
  },
  {
   "cell_type": "code",
   "execution_count": 50,
   "id": "4c33dc1e",
   "metadata": {},
   "outputs": [
    {
     "data": {
      "text/plain": [
       "0.7805755395683454"
      ]
     },
     "execution_count": 50,
     "metadata": {},
     "output_type": "execute_result"
    }
   ],
   "source": [
    "classifier2.score(X_test,y_test)"
   ]
  },
  {
   "cell_type": "code",
   "execution_count": 51,
   "id": "21d92148",
   "metadata": {},
   "outputs": [
    {
     "name": "stdout",
     "output_type": "stream",
     "text": [
      "Confusion Matrix:\n",
      " [[ 76  44]\n",
      " [ 17 141]]\n",
      "Classification Report\n",
      "               precision    recall  f1-score   support\n",
      "\n",
      "           0       0.82      0.63      0.71       120\n",
      "           1       0.76      0.89      0.82       158\n",
      "\n",
      "    accuracy                           0.78       278\n",
      "   macro avg       0.79      0.76      0.77       278\n",
      "weighted avg       0.79      0.78      0.78       278\n",
      "\n",
      "\n",
      "\n",
      "Accuracy is  78.06 %\n",
      "Precision is  0.76\n",
      "Recall is  0.89\n"
     ]
    }
   ],
   "source": [
    "# Predicting the Test set results\n",
    "y_pred = classifier2.predict(X_test)\n",
    "\n",
    "# Making the Confusion Matrix\n",
    "from sklearn.metrics import confusion_matrix\n",
    "cm = confusion_matrix(y_test, y_pred)\n",
    "print (\"Confusion Matrix:\\n\",cm)\n",
    "\n",
    "# Accuracy, Precision and Recall\n",
    "from sklearn.metrics import accuracy_score\n",
    "from sklearn.metrics import precision_score\n",
    "from sklearn.metrics import recall_score\n",
    "from sklearn.metrics import classification_report\n",
    "print('Classification Report\\n', classification_report(y_test, y_pred))\n",
    "score1 = accuracy_score(y_test,y_pred)\n",
    "score2 = precision_score(y_test,y_pred)\n",
    "score3= recall_score(y_test,y_pred)\n",
    "print(\"\\n\")\n",
    "print(\"Accuracy is \",round(score1*100,2),\"%\")\n",
    "print(\"Precision is \",round(score2,2))\n",
    "print(\"Recall is \",round(score3,2))\n",
    "\n"
   ]
  },
  {
   "cell_type": "markdown",
   "id": "923dd9fc",
   "metadata": {},
   "source": [
    "# logistic regression"
   ]
  },
  {
   "cell_type": "code",
   "execution_count": 52,
   "id": "4add0164",
   "metadata": {},
   "outputs": [],
   "source": [
    "from sklearn.linear_model import LogisticRegression"
   ]
  },
  {
   "cell_type": "code",
   "execution_count": 53,
   "id": "a2746cb6",
   "metadata": {},
   "outputs": [
    {
     "data": {
      "text/plain": [
       "LogisticRegression()"
      ]
     },
     "execution_count": 53,
     "metadata": {},
     "output_type": "execute_result"
    }
   ],
   "source": [
    "classifier3=LogisticRegression()\n",
    "classifier3.fit(X_train,y_train)"
   ]
  },
  {
   "cell_type": "code",
   "execution_count": 54,
   "id": "fdae43f4",
   "metadata": {},
   "outputs": [
    {
     "data": {
      "text/plain": [
       "0.8273381294964028"
      ]
     },
     "execution_count": 54,
     "metadata": {},
     "output_type": "execute_result"
    }
   ],
   "source": [
    "classifier3.score(X_test,y_test)"
   ]
  },
  {
   "cell_type": "code",
   "execution_count": 55,
   "id": "af2a9b5b",
   "metadata": {},
   "outputs": [
    {
     "name": "stdout",
     "output_type": "stream",
     "text": [
      "Confusion Matrix:\n",
      " [[ 99  21]\n",
      " [ 27 131]]\n",
      "Classification Report\n",
      "               precision    recall  f1-score   support\n",
      "\n",
      "           0       0.79      0.82      0.80       120\n",
      "           1       0.86      0.83      0.85       158\n",
      "\n",
      "    accuracy                           0.83       278\n",
      "   macro avg       0.82      0.83      0.83       278\n",
      "weighted avg       0.83      0.83      0.83       278\n",
      "\n",
      "\n",
      "\n",
      "Accuracy is  82.73 %\n",
      "Precision is  0.86\n",
      "Recall is  0.83\n"
     ]
    }
   ],
   "source": [
    "y_pred = classifier3.predict(X_test)\n",
    "\n",
    "# Making the Confusion Matrix\n",
    "from sklearn.metrics import confusion_matrix\n",
    "cm = confusion_matrix(y_test, y_pred)\n",
    "print (\"Confusion Matrix:\\n\",cm)\n",
    "\n",
    "# Accuracy, Precision and Recall\n",
    "from sklearn.metrics import accuracy_score\n",
    "from sklearn.metrics import precision_score\n",
    "from sklearn.metrics import recall_score\n",
    "from sklearn.metrics import classification_report\n",
    "print('Classification Report\\n', classification_report(y_test, y_pred))\n",
    "score1 = accuracy_score(y_test,y_pred)\n",
    "score2 = precision_score(y_test,y_pred)\n",
    "score3= recall_score(y_test,y_pred)\n",
    "print(\"\\n\")\n",
    "print(\"Accuracy is \",round(score1*100,2),\"%\")\n",
    "print(\"Precision is \",round(score2,2))\n",
    "print(\"Recall is \",round(score3,2))"
   ]
  },
  {
   "cell_type": "markdown",
   "id": "fb40eb0d",
   "metadata": {},
   "source": [
    "# Review Prediction"
   ]
  },
  {
   "cell_type": "code",
   "execution_count": 62,
   "id": "8d84c958",
   "metadata": {},
   "outputs": [],
   "source": [
    "a='Good Taste'\n",
    "t=cv.transform([a])"
   ]
  },
  {
   "cell_type": "code",
   "execution_count": 63,
   "id": "08fc080b",
   "metadata": {},
   "outputs": [
    {
     "data": {
      "text/plain": [
       "array([1], dtype=int64)"
      ]
     },
     "execution_count": 63,
     "metadata": {},
     "output_type": "execute_result"
    }
   ],
   "source": [
    "classifier1.predict(t)"
   ]
  },
  {
   "cell_type": "code",
   "execution_count": 64,
   "id": "187890c1",
   "metadata": {},
   "outputs": [],
   "source": [
    "b='Bad Taste'\n",
    "t=cv.transform([b])"
   ]
  },
  {
   "cell_type": "code",
   "execution_count": 65,
   "id": "c4fe0c27",
   "metadata": {},
   "outputs": [
    {
     "data": {
      "text/plain": [
       "array([0], dtype=int64)"
      ]
     },
     "execution_count": 65,
     "metadata": {},
     "output_type": "execute_result"
    }
   ],
   "source": [
    "classifier1.predict(t)"
   ]
  },
  {
   "cell_type": "code",
   "execution_count": 78,
   "id": "2adf9695",
   "metadata": {},
   "outputs": [],
   "source": [
    "a='not good'                 # not word is stopword \n",
    "t=cv.transform([a])"
   ]
  },
  {
   "cell_type": "code",
   "execution_count": 79,
   "id": "db8e12de",
   "metadata": {},
   "outputs": [],
   "source": [
    "res=classifier1.predict(t)"
   ]
  },
  {
   "cell_type": "code",
   "execution_count": 80,
   "id": "95e3c61a",
   "metadata": {},
   "outputs": [
    {
     "name": "stdout",
     "output_type": "stream",
     "text": [
      "0\n"
     ]
    }
   ],
   "source": [
    "if \"not\" in a:\n",
    "    res[0]=abs(res[0]-1)\n",
    "print(res[0])"
   ]
  },
  {
   "cell_type": "markdown",
   "id": "d18734ce",
   "metadata": {},
   "source": [
    "# Analysis and Conclusion"
   ]
  },
  {
   "cell_type": "markdown",
   "id": "96b59560",
   "metadata": {},
   "source": [
    "In this study, an attempt has been made to classify sentiment analysis for restaurant reviews using machine learning techniques. Two algorithms namely Multinomial Naive Bayes and Bernoulli Naive Bayes are implemented.\n",
    "\n"
   ]
  },
  {
   "cell_type": "code",
   "execution_count": null,
   "id": "61a230ed",
   "metadata": {},
   "outputs": [],
   "source": []
  }
 ],
 "metadata": {
  "kernelspec": {
   "display_name": "Python 3 (ipykernel)",
   "language": "python",
   "name": "python3"
  },
  "language_info": {
   "codemirror_mode": {
    "name": "ipython",
    "version": 3
   },
   "file_extension": ".py",
   "mimetype": "text/x-python",
   "name": "python",
   "nbconvert_exporter": "python",
   "pygments_lexer": "ipython3",
   "version": "3.9.7"
  }
 },
 "nbformat": 4,
 "nbformat_minor": 5
}
